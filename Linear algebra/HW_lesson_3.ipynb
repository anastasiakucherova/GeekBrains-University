{
 "cells": [
  {
   "cell_type": "markdown",
   "metadata": {},
   "source": [
    "# Урок 5"
   ]
  },
  {
   "cell_type": "markdown",
   "metadata": {},
   "source": [
    "# Линейные преобразования"
   ]
  },
  {
   "cell_type": "markdown",
   "metadata": {},
   "source": [
    "__1. Найти собственные векторы и собственные значения для линейного оператора, заданного матрицей__\n",
    "\n",
    "$$A=\\begin{pmatrix}\n",
    "-1 & -6\\\\ \n",
    "2 & 6\n",
    "\\end{pmatrix}.$$"
   ]
  },
  {
   "cell_type": "markdown",
   "metadata": {},
   "source": [
    "Решим характеристическое уравнение оператора А, чтобы найти собственные значения $\\lambda$:\n",
    "\n",
    "$det(\\textbf{A}-\\lambda\\textbf{I})=0,$\n",
    "\n",
    "$\\begin{vmatrix}\n",
    "-1 - \\lambda & -6\\\\ \n",
    "2 & 6 - \\lambda\n",
    "\\end{vmatrix} = 0$,\n",
    "\n",
    "$(-1 - \\lambda) \\cdot (6 - \\lambda) = 0, \\lambda^{2} - 5\\lambda + 6 = 0$,\n",
    "\n",
    "$\\lambda_{1} = 2, \\lambda_{2} = 3.$\n"
   ]
  },
  {
   "cell_type": "markdown",
   "metadata": {},
   "source": [
    "Теперь найдем собственные векторы вида $\\begin{pmatrix}\n",
    "x_{1}\\\\ \n",
    "x_{2}\n",
    "\\end{pmatrix}$, подставив полученные собственные значения в выражение $\\textbf{A}x=\\lambda x$:\n",
    "\n",
    "1)  $\\lambda=2$:\n",
    "\n",
    "$\\begin{pmatrix}\n",
    "-1 & -6\\\\ \n",
    "2 & 6\n",
    "\\end{pmatrix}\n",
    "\\begin{pmatrix}\n",
    "x_{1}\\\\ \n",
    "x_{2}\n",
    "\\end{pmatrix}=\n",
    "2\n",
    "\\begin{pmatrix}\n",
    "x_{1}\\\\ \n",
    "x_{2}\n",
    "\\end{pmatrix},\n",
    "$\n",
    "\n",
    "$\\begin{cases}\n",
    "-x_{1}-6\\cdot x_{2}= 2\\cdot x_{1}, \\\\\n",
    "2\\cdot x_{1}+6\\cdot x_{2}= 2\\cdot x_{2},   \n",
    "\\end{cases}\n",
    "\\begin{cases}\n",
    "3\\cdot x_{1}+6\\cdot x_{2}= 0, \\\\\n",
    "2\\cdot x_{1}+4\\cdot x_{2}= 0,   \n",
    "\\end{cases}\n",
    "$\n",
    "\n",
    "$x_{1} = -2 \\cdot x_{2}.$\n",
    "\n",
    "Т.е. в случае $\\lambda=2$ оператор А имеет бесконечное множество собственных векторов с координатамии, удовлетворяющим уравнению выше.\n",
    "\n",
    "\n",
    "\n",
    "2)  $\\lambda=3$:\n",
    "\n",
    "$\\begin{pmatrix}\n",
    "-1 & -6\\\\ \n",
    "2 & 6\n",
    "\\end{pmatrix}\n",
    "\\begin{pmatrix}\n",
    "x_{1}\\\\ \n",
    "x_{2}\n",
    "\\end{pmatrix}=\n",
    "3\n",
    "\\begin{pmatrix}\n",
    "x_{1}\\\\ \n",
    "x_{2}\n",
    "\\end{pmatrix},\n",
    "$\n",
    "\n",
    "$\\begin{cases}\n",
    "-x_{1}-6\\cdot x_{2}= 3\\cdot x_{1}, \\\\\n",
    "2\\cdot x_{1}+6\\cdot x_{2}= 3\\cdot x_{2},   \n",
    "\\end{cases}\n",
    "\\begin{cases}\n",
    "4\\cdot x_{1}+6\\cdot x_{2}= 0, \\\\\n",
    "2\\cdot x_{1}+3\\cdot x_{2}= 0,   \n",
    "\\end{cases}\n",
    "$\n",
    "\n",
    "$x_{1} = -1.5 \\cdot x_{2}.$\n",
    "\n",
    "Т.е. в случае $\\lambda=3$ оператор А имеет бесконечное множество собственных векторов с координатамии, удовлетворяющим уравнению выше."
   ]
  },
  {
   "cell_type": "code",
   "execution_count": 1,
   "metadata": {},
   "outputs": [
    {
     "name": "stdout",
     "output_type": "stream",
     "text": [
      "Матрица A:\n",
      "[[-1 -6]\n",
      " [ 2  6]]\n",
      "\n",
      "Собственные значения:\n",
      "[2. 3.]\n",
      "\n",
      "Собственные векторы:\n",
      "[[-0.89442719  0.83205029]\n",
      " [ 0.4472136  -0.5547002 ]]\n",
      "\n"
     ]
    }
   ],
   "source": [
    "import numpy as np\n",
    "\n",
    "a = np.array([[-1, -6], [2, 6]])\n",
    "w, v = np.linalg.eig(a)\n",
    " \n",
    "print(f'Матрица A:\\n{a}\\n')\n",
    "print(f'Собственные значения:\\n{w}\\n')\n",
    "print(f'Собственные векторы:\\n{v}\\n')"
   ]
  },
  {
   "cell_type": "markdown",
   "metadata": {},
   "source": [
    "__2. Дан оператор поворота на 180 градусов, задаваемый матрицей__ \n",
    "\n",
    "$$A=\\begin{pmatrix}\n",
    "-1 & 0\\\\ \n",
    "0 & -1\n",
    "\\end{pmatrix}.$$\n",
    "\n",
    "Показать, что __любой__ вектор является для него собственным."
   ]
  },
  {
   "cell_type": "markdown",
   "metadata": {},
   "source": [
    "$\\begin{vmatrix}\n",
    "-1 - \\lambda & 0\\\\ \n",
    "0 & -1 - \\lambda\n",
    "\\end{vmatrix} = 0, (-1 - \\lambda)^{2} = 0, \\lambda = -1.$\n",
    "\n",
    "$\\begin{pmatrix}\n",
    "-1 & 0\\\\ \n",
    "0 & -1\n",
    "\\end{pmatrix}\n",
    "\\begin{pmatrix}\n",
    "x_{1}\\\\ \n",
    "x_{2}\n",
    "\\end{pmatrix}=\n",
    "-1\n",
    "\\begin{pmatrix}\n",
    "x_{1}\\\\ \n",
    "x_{2}\n",
    "\\end{pmatrix},\n",
    "$\n",
    "\n",
    "$\\begin{cases}\n",
    "-x_{1}-0\\cdot x_{2}= -x_{1}, \\\\\n",
    "0\\cdot x_{1}-\\cdot x_{2}= -x_{2},   \n",
    "\\end{cases}\n",
    "\\begin{cases}\n",
    "x_{1}=x_{1}, \\\\\n",
    "x_{2}= x_{2},   \n",
    "\\end{cases}\n",
    "$\n",
    "\n",
    "Т.к. любые значения $x_{1}$ и $x_{2}$ являются решениями полученной системы уравнений, то любой вектор - собственный для оператора А."
   ]
  },
  {
   "cell_type": "code",
   "execution_count": 2,
   "metadata": {},
   "outputs": [
    {
     "name": "stdout",
     "output_type": "stream",
     "text": [
      "Матрица A:\n",
      "[[-1  0]\n",
      " [ 0 -1]]\n",
      "\n",
      "Собственные значения:\n",
      "[-1. -1.]\n",
      "\n",
      "Собственные векторы:\n",
      "[[1. 0.]\n",
      " [0. 1.]]\n",
      "\n"
     ]
    }
   ],
   "source": [
    "a = np.array([[-1, 0], [0, -1]])\n",
    "w, v = np.linalg.eig(a)\n",
    " \n",
    "print(f'Матрица A:\\n{a}\\n')\n",
    "print(f'Собственные значения:\\n{w}\\n')\n",
    "print(f'Собственные векторы:\\n{v}\\n')"
   ]
  },
  {
   "cell_type": "markdown",
   "metadata": {},
   "source": [
    "__3. Пусть линейный оператор задан матрицей__\n",
    "\n",
    "$$A=\\begin{pmatrix}\n",
    "1 & 1\\\\ \n",
    "-1 & 3\n",
    "\\end{pmatrix}.$$\n",
    "\n",
    "__Установить, является ли вектор $x=(1,1)$ собственным вектором этого линейного оператора.__\n"
   ]
  },
  {
   "cell_type": "markdown",
   "metadata": {},
   "source": [
    "$\\begin{pmatrix}\n",
    "1 & 1\\\\ \n",
    "-1 & 3\n",
    "\\end{pmatrix}\n",
    "\\begin{pmatrix}\n",
    "1\\\\ \n",
    "1\n",
    "\\end{pmatrix}=\n",
    "\\lambda\n",
    "\\begin{pmatrix}\n",
    "1\\\\ \n",
    "1\n",
    "\\end{pmatrix},\n",
    "\\begin{cases}\n",
    "1 \\cdot 1 + 1 \\cdot 1 = \\lambda, \\\\\n",
    "-1 \\cdot 1 + 3 \\cdot 1= \\lambda,   \n",
    "\\end{cases}\n",
    "\\begin{cases}\n",
    "\\lambda=2, \\\\\n",
    "\\lambda=2.   \n",
    "\\end{cases}\n",
    "$\n",
    "\n",
    "Т.к. $\\lambda=2$, то вектор х является собственным вектором оператора А."
   ]
  },
  {
   "cell_type": "code",
   "execution_count": 3,
   "metadata": {},
   "outputs": [
    {
     "name": "stdout",
     "output_type": "stream",
     "text": [
      "Матрица A:\n",
      "[[ 1  1]\n",
      " [-1  3]]\n",
      "\n",
      "Собственные значения:\n",
      "[2.00000002 1.99999998]\n",
      "\n"
     ]
    }
   ],
   "source": [
    "a = np.array([[1, 1], [-1, 3]])\n",
    "w, v = np.linalg.eig(a)\n",
    " \n",
    "print(f'Матрица A:\\n{a}\\n')\n",
    "print(f'Собственные значения:\\n{w}\\n')"
   ]
  },
  {
   "cell_type": "markdown",
   "metadata": {},
   "source": [
    "__4. Пусть линейный оператор задан матрицей__\n",
    "\n",
    "$$A=\\begin{pmatrix} 0 & 3 & 0\\\\ 3 & 0 & 0\\\\ 0 & 0 & 3 \\end{pmatrix}.$$\n",
    "\n",
    "__Установить, является ли вектор $x=(3, -3, -4)$ собственным вектором этого линейного оператора.__"
   ]
  },
  {
   "cell_type": "markdown",
   "metadata": {},
   "source": [
    "$\\begin{pmatrix}\n",
    "0 & 3 & 0\\\\\n",
    "3 & 0 & 0\\\\\n",
    "0 & 0 & 3\n",
    "\\end{pmatrix}\n",
    "\\begin{pmatrix}\n",
    "3\\\\ \n",
    "-3\\\\\n",
    "-4\n",
    "\\end{pmatrix}=\n",
    "\\lambda\n",
    "\\begin{pmatrix}\n",
    "3\\\\ \n",
    "-3\\\\\n",
    "-4\n",
    "\\end{pmatrix},\n",
    "$\n",
    "\n",
    "$\n",
    "\\begin{cases}\n",
    "9 = 3\\lambda, \\\\\n",
    "-9 = -3\\lambda, \\\\\n",
    "-12 = -4\\lambda.   \n",
    "\\end{cases}\n",
    "$\n",
    "\n",
    "Т.к. $\\lambda=3$, то вектор х является собственным вектором оператора А."
   ]
  },
  {
   "cell_type": "code",
   "execution_count": 4,
   "metadata": {},
   "outputs": [
    {
     "name": "stdout",
     "output_type": "stream",
     "text": [
      "Матрица A:\n",
      "[[0 3 0]\n",
      " [3 0 0]\n",
      " [0 0 3]]\n",
      "\n",
      "Собственные значения:\n",
      "[ 3. -3.  3.]\n",
      "\n"
     ]
    }
   ],
   "source": [
    "a = np.array([[0, 3, 0], [3, 0, 0], [0, 0, 3]])\n",
    "w, v = np.linalg.eig(a)\n",
    " \n",
    "print(f'Матрица A:\\n{a}\\n')\n",
    "print(f'Собственные значения:\\n{w}\\n')"
   ]
  }
 ],
 "metadata": {
  "kernelspec": {
   "display_name": "Python 3",
   "language": "python",
   "name": "python3"
  },
  "language_info": {
   "codemirror_mode": {
    "name": "ipython",
    "version": 3
   },
   "file_extension": ".py",
   "mimetype": "text/x-python",
   "name": "python",
   "nbconvert_exporter": "python",
   "pygments_lexer": "ipython3",
   "version": "3.7.6"
  }
 },
 "nbformat": 4,
 "nbformat_minor": 4
}
