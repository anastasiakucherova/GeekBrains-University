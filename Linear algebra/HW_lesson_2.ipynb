{
 "cells": [
  {
   "cell_type": "markdown",
   "metadata": {},
   "source": [
    "# Урок 4"
   ]
  },
  {
   "cell_type": "markdown",
   "metadata": {},
   "source": [
    "# Матрицы и матричные операции. Часть 1"
   ]
  },
  {
   "cell_type": "markdown",
   "metadata": {},
   "source": [
    "__1.__ Установить, какие произведения матриц $AB$ и $BA$ определены, и найти размерности полученных матриц:\n",
    "\n",
    "   а) $A$ — матрица $4\\times 2$, $B$ — матрица $4\\times 2$; - __и АВ, и ВА - произведение невозможно, т.к. число строк А не равно числу столбцов В__\n",
    "    \n",
    "   б) $A$ — матрица $2\\times 5$, $B$ — матрица $5\\times 3$; - __АВ - произведение невозможно, ВА - размерность $5\\times 5$__\n",
    "    \n",
    "   в) $A$ — матрица $8\\times 3$, $B$ — матрица $3\\times 8$; - __АВ - размерность $8\\times 8$, ВА - размерность $3\\times 3$__\n",
    "    \n",
    "   г) $A$ — квадратная матрица $4\\times 4$, $B$ — квадратная матрица $4\\times 4$ - __АВ и ВА - размерность $4\\times 4$__\n",
    "   \n",
    "   <br>"
   ]
  },
  {
   "cell_type": "markdown",
   "metadata": {},
   "source": [
    "__2.__ Найти сумму и произведение матриц $A=\\begin{pmatrix}\n",
    "1 & -2\\\\ \n",
    "3 & 0\n",
    "\\end{pmatrix}$ и $B=\\begin{pmatrix}\n",
    "4 & -1\\\\ \n",
    "0 & 5\n",
    "\\end{pmatrix}.$"
   ]
  },
  {
   "cell_type": "markdown",
   "metadata": {},
   "source": [
    "$\n",
    "A + B =\\begin{pmatrix}\n",
    "1 + 4 & -2 - 1\\\\ \n",
    "3 + 0 & 0 + 5\n",
    "\\end{pmatrix}\n",
    "= \\begin{pmatrix}\n",
    "5 & -3\\\\ \n",
    "3 & 5\n",
    "\\end{pmatrix}\n",
    "$\n",
    "\n",
    "$\n",
    "A \\cdot B =\\begin{pmatrix}\n",
    "1 \\cdot 4 - 2 \\cdot 0 & -1 \\cdot 1 - 2 \\cdot 5\\\\ \n",
    "3 \\cdot 4 + 0 \\cdot 0 & -3 \\cdot 1 + 0 \\cdot 5\n",
    "\\end{pmatrix}\n",
    "= \\begin{pmatrix}\n",
    "4 & -11\\\\ \n",
    "12 & -3\n",
    "\\end{pmatrix}\n",
    "$"
   ]
  },
  {
   "cell_type": "code",
   "execution_count": 1,
   "metadata": {},
   "outputs": [
    {
     "name": "stdout",
     "output_type": "stream",
     "text": [
      "A + B:\n",
      "[[ 5 -3]\n",
      " [ 3  5]]\n",
      "A * B:\n",
      "[[  4 -11]\n",
      " [ 12  -3]]\n"
     ]
    }
   ],
   "source": [
    "import numpy as np\n",
    "\n",
    "A = np.array([[1, -2], [3, 0]])\n",
    "B = np.array([[4, -1], [0, 5]])\n",
    "\n",
    "print(f'A + B:\\n{A + B}')\n",
    "print(f'A * B:\\n{np.dot(A, B)}')"
   ]
  },
  {
   "cell_type": "markdown",
   "metadata": {},
   "source": [
    "__3.__ Из закономерностей сложения и умножения матриц на число можно сделать вывод, что матрицы одного размера образуют линейное пространство. Вычислить линейную комбинацию $3A-2B+4C$ для матриц $A=\\begin{pmatrix}\n",
    "1 & 7\\\\ \n",
    "3 & -6\n",
    "\\end{pmatrix}$, $B=\\begin{pmatrix}\n",
    "0 & 5\\\\ \n",
    "2 & -1\n",
    "\\end{pmatrix}$, $C=\\begin{pmatrix}\n",
    "2 & -4\\\\ \n",
    "1 & 1\n",
    "\\end{pmatrix}.$"
   ]
  },
  {
   "cell_type": "markdown",
   "metadata": {},
   "source": [
    "$3A-2B+4C=\\begin{pmatrix}\n",
    "3 \\cdot 1 -2 \\cdot 0 + 4 \\cdot 2 & 3 \\cdot 7 - 2 \\cdot 5 - 4 \\cdot 4\\\\ \n",
    "3 \\cdot 3 - 2 \\cdot 2 + 4 \\cdot 1 & -3 \\cdot 6 + 2 \\cdot 1 + 4 \\cdot1\n",
    "\\end{pmatrix}=\n",
    "\\begin{pmatrix}\n",
    "11 & -5\\\\ \n",
    "9 & -12\n",
    "\\end{pmatrix}\n",
    "$"
   ]
  },
  {
   "cell_type": "code",
   "execution_count": 2,
   "metadata": {},
   "outputs": [
    {
     "name": "stdout",
     "output_type": "stream",
     "text": [
      "3A - 2B + 4C:\n",
      "[[ 11  -5]\n",
      " [  9 -12]]\n"
     ]
    }
   ],
   "source": [
    "A = np.array([[1, 7], [3, -6]])\n",
    "B = np.array([[0, 5], [2, -1]])\n",
    "C = np.array([[2, -4], [1, 1]])\n",
    "\n",
    "print(f'3A - 2B + 4C:\\n{3*A -2*B + 4*C}')"
   ]
  },
  {
   "cell_type": "markdown",
   "metadata": {},
   "source": [
    "__4.__ Дана матрица $A=\\begin{pmatrix}\n",
    "4 & 1\\\\ \n",
    "5 & -2\\\\ \n",
    "2 & 3\n",
    "\\end{pmatrix}$.\n",
    "Вычислить $AA^{T}$ и $A^{T}A$."
   ]
  },
  {
   "cell_type": "markdown",
   "metadata": {},
   "source": [
    "$A^{T}=\\begin{pmatrix}\n",
    "4 & 5 & 2\\\\ \n",
    "1 & -2 & 3\n",
    "\\end{pmatrix}$\n",
    "\n",
    "$A \\cdot A^{T}=\\begin{pmatrix}\n",
    "4 \\cdot 4 + 1 \\cdot 1 & 4 \\cdot 5 - 1 \\cdot 2 & 4 \\cdot 2 + 1 \\cdot 3\\\\ \n",
    "5 \\cdot 4 - 2 \\cdot 1 & 5 \\cdot 5 + 2 \\cdot 2 & 5 \\cdot 2 - 2 \\cdot 3\\\\\n",
    "2 \\cdot 4 + 3 \\cdot 1 & 2 \\cdot 5 - 3 \\cdot 2 & 2 \\cdot 2 + 3 \\cdot 3\\\\\n",
    "\\end{pmatrix}\n",
    "=\\begin{pmatrix}\n",
    "17 & 18 & 11\\\\ \n",
    "18 & 29 & 4\\\\\n",
    "11 & 4 & 13\n",
    "\\end{pmatrix}\n",
    "$\n",
    "\n",
    "$A^{T} \\cdot A=\\begin{pmatrix}\n",
    "4 \\cdot 4 + 5 \\cdot 5 + 2 \\cdot 2 & 4 \\cdot 1 - 5 \\cdot 2 + 2 \\cdot 3\\\\ \n",
    "1 \\cdot 4 - 2 \\cdot 5 + 3 \\cdot 2 & 1 \\cdot 1 + 2 \\cdot 2 + 3 \\cdot 3\n",
    "\\end{pmatrix}\n",
    "=\\begin{pmatrix}\n",
    "45 & 0\\\\ \n",
    "0 & 14\\\\\n",
    "\\end{pmatrix}\n",
    "$"
   ]
  },
  {
   "cell_type": "code",
   "execution_count": 3,
   "metadata": {},
   "outputs": [
    {
     "name": "stdout",
     "output_type": "stream",
     "text": [
      "A_T:\n",
      "[[ 4  5  2]\n",
      " [ 1 -2  3]]\n",
      "\n",
      "A * A_T:\n",
      "[[17 18 11]\n",
      " [18 29  4]\n",
      " [11  4 13]]\n",
      "\n",
      "A_T * A:\n",
      "[[45  0]\n",
      " [ 0 14]]\n",
      "\n"
     ]
    }
   ],
   "source": [
    "A = np.array([[4, 1], [5, -2], [2, 3]])\n",
    "A_T = A.T\n",
    "\n",
    "print(f'A_T:\\n{A_T}\\n')\n",
    "print(f'A * A_T:\\n{np.dot(A, A_T)}\\n')\n",
    "print(f'A_T * A:\\n{np.dot(A_T, A)}\\n')"
   ]
  },
  {
   "cell_type": "markdown",
   "metadata": {},
   "source": [
    "# Урок 4"
   ]
  },
  {
   "cell_type": "markdown",
   "metadata": {},
   "source": [
    "# Матрицы и матричные операции. Часть 2"
   ]
  },
  {
   "cell_type": "markdown",
   "metadata": {},
   "source": [
    "__1.Вычислить определитель:__ \n",
    "\n",
    "   a)\n",
    "\n",
    "$$\n",
    "\\begin{vmatrix}\n",
    "sinx & -cosx\\\\ \n",
    "cosx & sinx\n",
    "\\end{vmatrix} = sinx^{2} + cosx^{2} = 1;\n",
    "$$\n",
    "\n",
    "   б)\n",
    "    \n",
    "$$\n",
    "\\begin{vmatrix}\n",
    "4 & 2 & 3\\\\ \n",
    "0 & 5 & 1\\\\ \n",
    "0 & 0 & 9\n",
    "\\end{vmatrix} = 4 \\cdot 5 \\cdot 9 = 180;\n",
    "$$\n",
    "    \n",
    "   в)\n",
    "\n",
    "\\begin{vmatrix}\n",
    "1 & 2 & 3\\\\ \n",
    "4 & 5 & 6\\\\ \n",
    "7 & 8 & 9\n",
    "\\end{vmatrix}.\n",
    "\n",
    "Сначала преобразуем вторую строчку, вычев из нее первую, умноженную на -4. Затем преобразуем третью строку, вычев первую, умноженную на -7. В результате строки 2 и 3 будут линейно зависимы, значит определитель = 0:\n",
    "\n",
    "$$\n",
    "\\begin{vmatrix}\n",
    "1 & 2 & 3\\\\ \n",
    "4 & 5 & 6\\\\ \n",
    "7 & 8 & 9\n",
    "\\end{vmatrix} =\n",
    "\\begin{vmatrix}\n",
    "1 & 2 & 3\\\\ \n",
    "0 & -3 & -6\\\\ \n",
    "7 & 8 & 9\n",
    "\\end{vmatrix} =\n",
    "\\begin{vmatrix}\n",
    "1 & 2 & 3\\\\ \n",
    "0 & -3 & -6\\\\ \n",
    "0 & -6 & -12\n",
    "\\end{vmatrix} = 0.\n",
    "$$\n"
   ]
  },
  {
   "cell_type": "code",
   "execution_count": 4,
   "metadata": {},
   "outputs": [
    {
     "name": "stdout",
     "output_type": "stream",
     "text": [
      "Матрица:\n",
      "[[4 2 3]\n",
      " [0 5 1]\n",
      " [0 0 9]]\n",
      "Определитель:\n",
      "180\n",
      "\n",
      "Матрица:\n",
      "[[1 2 3]\n",
      " [4 5 6]\n",
      " [7 8 9]]\n",
      "Определитель:\n",
      "-0\n",
      "\n"
     ]
    }
   ],
   "source": [
    "import numpy as np\n",
    "\n",
    "a = np.array([[4, 2, 3], [0, 5, 1], [0, 0, 9]])\n",
    "print(f'Матрица:\\n{a}')\n",
    "print(f'Определитель:\\n{np.linalg.det(a):.0f}\\n')\n",
    "\n",
    "b = np.array([[1, 2, 3], [4, 5, 6], [7, 8, 9]])\n",
    "print(f'Матрица:\\n{b}')\n",
    "print(f'Определитель:\\n{np.linalg.det(b):.0f}\\n')"
   ]
  },
  {
   "cell_type": "markdown",
   "metadata": {},
   "source": [
    "__2. Определитель матрицы $A$ равен $4$. Найти:__\n",
    "\n",
    "   а) $det(A^{2}) = det(A \\cdot A) = det(A) \\cdot det(A) = 4 \\cdot 4 = 16$;\n",
    "    \n",
    "   б) $det(A^{T}) = det(A) = 4$;\n",
    "    \n",
    "   в) $det(2A) = det(A) \\cdot 2^{n} = 4 \\cdot 2^{n},$ где n - размерность матрицы ."
   ]
  },
  {
   "cell_type": "code",
   "execution_count": 5,
   "metadata": {},
   "outputs": [
    {
     "name": "stdout",
     "output_type": "stream",
     "text": [
      "Определитель A:\n",
      "4\n",
      "\n",
      "Определитель 2A:\n",
      "64\n",
      "\n"
     ]
    }
   ],
   "source": [
    "c = np.array([[1, 2, 3, 1], [0, 4, 1, 1], [0, 0, 1, 1], [0, 0, 0, 1]])\n",
    "print(f'Определитель A:\\n{np.linalg.det(c):.0f}\\n')\n",
    "print(f'Определитель 2A:\\n{np.linalg.det(2 * c):.0f}\\n')"
   ]
  },
  {
   "cell_type": "markdown",
   "metadata": {},
   "source": [
    "__3. Доказать, что матрица вырожденная:__  \n",
    "\n",
    "$$\\begin{pmatrix}\n",
    "-2 & 7 & -3\\\\ \n",
    "4 & -14 & 6\\\\ \n",
    "-3 & 7 & 13\n",
    "\\end{pmatrix}$$\n",
    "\n",
    "Видно, что второая строка - это удвоенная первая со знаком минус. Т.е. две строки матрицы линейно зависимы. По свойству определителей, определитель такой матрицы равен нулю.\n",
    "Матрица называется вырожденной, если ее определитель равен нулю. Значит данная матрица - вырожденная."
   ]
  },
  {
   "cell_type": "markdown",
   "metadata": {},
   "source": [
    "__4. Найти ранг матрицы:__\n",
    "\n",
    "   а)\n",
    "$\n",
    "\\begin{pmatrix}\n",
    "1 & 2 & 3\\\\ \n",
    "1 & 1 & 1\\\\ \n",
    "2 & 3 & 4\n",
    "\\end{pmatrix} =>\n",
    "\\begin{pmatrix}\n",
    "1 & 2 & 3\\\\ \n",
    "1 & 1 & 1\n",
    "\\end{pmatrix}\n",
    "$ => ранг 2 (третья строка = сумме первых двух, ее можно отбросить)\n",
    "\n",
    "   б)\n",
    "$\n",
    "\\begin{pmatrix}\n",
    "0 & 0 & 2 & 1\\\\ \n",
    "0 & 0 & 2 & 2\\\\ \n",
    "0 & 0 & 4 & 3\\\\ \n",
    "2 & 3 & 5 & 6\n",
    "\\end{pmatrix} =>\n",
    "\\begin{pmatrix}\n",
    "0 & 0 & 2 & 1\\\\ \n",
    "0 & 0 & 2 & 2\\\\ \n",
    "2 & 3 & 5 & 6\n",
    "\\end{pmatrix}\n",
    "$ => ранг 3 (третья строка = сумме первых двух, ее можно отбросить)"
   ]
  },
  {
   "cell_type": "code",
   "execution_count": 6,
   "metadata": {},
   "outputs": [
    {
     "name": "stdout",
     "output_type": "stream",
     "text": [
      "Ранг матрицы A: 2\n",
      "\n",
      "Ранг матрицы B: 3\n",
      "\n"
     ]
    }
   ],
   "source": [
    "a = np.array([[1, 2, 3], [1, 1, 1], [2, 3, 4]])\n",
    "b = np.array([[0, 0, 2, 1], [0, 0, 2, 2], [0, 0, 4, 3], [2, 3, 5, 6]])\n",
    "\n",
    "print(f'Ранг матрицы A: {np.linalg.matrix_rank(a)}\\n')\n",
    "print(f'Ранг матрицы B: {np.linalg.matrix_rank(b)}\\n')"
   ]
  }
 ],
 "metadata": {
  "kernelspec": {
   "display_name": "Python 3",
   "language": "python",
   "name": "python3"
  },
  "language_info": {
   "codemirror_mode": {
    "name": "ipython",
    "version": 3
   },
   "file_extension": ".py",
   "mimetype": "text/x-python",
   "name": "python",
   "nbconvert_exporter": "python",
   "pygments_lexer": "ipython3",
   "version": "3.7.6"
  }
 },
 "nbformat": 4,
 "nbformat_minor": 4
}
