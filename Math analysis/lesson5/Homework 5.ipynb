{
 "cells": [
  {
   "cell_type": "code",
   "execution_count": 1,
   "metadata": {},
   "outputs": [],
   "source": [
    "%matplotlib inline\n",
    "import math\n",
    "import numpy as np\n",
    "import matplotlib.pyplot as plt\n",
    "import itertools"
   ]
  },
  {
   "cell_type": "markdown",
   "metadata": {},
   "source": [
    "1. Напишите код, моделирующий выпадение поля в рулетке (с учетом поля зеро)."
   ]
  },
  {
   "cell_type": "code",
   "execution_count": 2,
   "metadata": {},
   "outputs": [],
   "source": [
    "def roulette():\n",
    "    x = np.random.randint(0, 37)\n",
    "    isOdd = x%2\n",
    "    isEven = not(isOdd)\n",
    "    isRed = (x > 0 and x < 10 and isOdd) \\\n",
    "        or (x > 10 and x <= 18 and isEven) \\\n",
    "        or (x > 18 and x < 28 and isOdd) \\\n",
    "        or (x > 29 and x <= 36 and isEven)\n",
    "    return x, isRed"
   ]
  },
  {
   "cell_type": "code",
   "execution_count": 3,
   "metadata": {},
   "outputs": [
    {
     "name": "stdout",
     "output_type": "stream",
     "text": [
      "\n",
      "Black: 31\n",
      "\n",
      "Red: 30\n",
      "\n",
      "Red: 27\n",
      "\n",
      "Red: 27\n",
      "\n",
      "Red: 18\n",
      "q\n"
     ]
    }
   ],
   "source": [
    "while True:\n",
    "    a = input()\n",
    "    if a == 'q':\n",
    "        break\n",
    "    x, isRed = roulette()\n",
    "    if x == 0:\n",
    "        print('Zero')\n",
    "    elif isRed:\n",
    "        print(f'Red: {x}')\n",
    "    else:\n",
    "        print(f'Black: {x}')"
   ]
  },
  {
   "cell_type": "markdown",
   "metadata": {},
   "source": [
    "2.1 Напишите код, проверяющий любую из теорем сложения или умножения вероятности на примере рулетки или подбрасывания монетки."
   ]
  },
  {
   "cell_type": "code",
   "execution_count": 4,
   "metadata": {},
   "outputs": [],
   "source": [
    "def run_roulette(n):\n",
    "    zero, red, black = 0, 0, 0\n",
    "    \n",
    "    for i in range(0, n):\n",
    "        x, isRed = roulette()\n",
    "        if x == 0:\n",
    "            zero += 1\n",
    "        elif isRed:\n",
    "            red += 1\n",
    "        else:\n",
    "            black += 1\n",
    "\n",
    "    return zero, red, black"
   ]
  },
  {
   "cell_type": "code",
   "execution_count": 5,
   "metadata": {},
   "outputs": [
    {
     "name": "stdout",
     "output_type": "stream",
     "text": [
      "zero = 1, red = 51, black = 48\n",
      "P(zero) = 0.01, P(red) = 0.51, P(black) = 0.48\n",
      "P(zero) + P(red) + P(black) = 1.0\n"
     ]
    }
   ],
   "source": [
    "n = 100\n",
    "\n",
    "zero, red, black = run_roulette(n)\n",
    "p_zero, p_red, p_black = zero/n, red/n, black/n\n",
    "\n",
    "print(f'zero = {zero}, red = {red}, black = {black}')\n",
    "print(f'P(zero) = {p_zero}, P(red) = {p_red}, P(black) = {p_black}')\n",
    "print(f'P(zero) + P(red) + P(black) = {p_zero + p_red + p_black}')"
   ]
  },
  {
   "cell_type": "markdown",
   "metadata": {},
   "source": [
    "2.2 Сгенерируйте десять выборок случайных чисел х0, …, х9 и постройте гистограмму распределения случайной суммы х0+х1+ …+ х9."
   ]
  },
  {
   "cell_type": "code",
   "execution_count": 6,
   "metadata": {},
   "outputs": [
    {
     "name": "stdout",
     "output_type": "stream",
     "text": [
      "[3.4085222913430018, 5.781767122994821, 4.866422821198777, 4.075622595609676, 4.681449775228635, 5.59276588685068, 5.662346585222777, 6.402275939752986, 4.407913607878011, 5.755429280882246]\n"
     ]
    },
    {
     "data": {
      "image/png": "[encoded data removed]",
      "text/plain": [
       "<Figure size 432x288 with 1 Axes>"
      ]
     },
     "metadata": {
      "needs_background": "light"
     },
     "output_type": "display_data"
    }
   ],
   "source": [
    "x = [np.sum(np.random.rand(10)) for _ in range(10)]\n",
    "# Я поняла, что нужно 10 раз сложить 10 случайных чисел. Надеюсь, это именно то, что требует задание\n",
    "print(x)\n",
    "num_bins = 5\n",
    "n, bins, patches = plt.hist(x, num_bins)\n",
    "plt.xlabel('x')\n",
    "plt.ylabel('Probability')\n",
    "plt.title('Histogram')\n",
    "plt.show()"
   ]
  },
  {
   "cell_type": "markdown",
   "metadata": {},
   "source": [
    "3.\n",
    "\n",
    "1) Дополните код Монте-Карло последовательности независимых испытаний\n",
    "расчетом соответствующих вероятностей (через биномиальное распределение)\n",
    "и сравните результаты.\n",
    "\n",
    "2) Повторите расчеты биномиальных коэффициентов и вероятностей k успехов в\n",
    "последовательности из n независимых испытаний, взяв другие значения n и k."
   ]
  },
  {
   "cell_type": "code",
   "execution_count": 7,
   "metadata": {},
   "outputs": [],
   "source": [
    "def roulette_binomial_distr(n, k):\n",
    "    zero, red, black = run_roulette(n)\n",
    "    \n",
    "    m = n-k\n",
    "\n",
    "    P = {'zero': 1/37, 'red': 18/37, 'black': 18/37}\n",
    "    Pnk = {}\n",
    "\n",
    "    Cnk = math.factorial(n) / (math.factorial(k) *  math.factorial(m))\n",
    "\n",
    "    for key, p in P.items():\n",
    "        Pnk[key] = Cnk * p**k * (1-p)**m\n",
    "        \n",
    "    return Pnk"
   ]
  },
  {
   "cell_type": "code",
   "execution_count": 8,
   "metadata": {},
   "outputs": [
    {
     "name": "stdout",
     "output_type": "stream",
     "text": [
      "n = 10, k = 4, res = {'zero': 9.50642133227558e-05, 'red': 0.2156818898216137, 'black': 0.2156818898216137}\n",
      "n = 10, k = 1, res = {'zero': 0.21120552079935692, 'red': 0.012079186118349074, 'black': 0.012079186118349074}\n",
      "n = 100, k = 50, res = {'zero': 9.972557325080454e-51, 'red': 0.07673381768239178, 'black': 0.07673381768239178}\n"
     ]
    }
   ],
   "source": [
    "def print_distr(n, k):\n",
    "    print(f'n = {n}, k = {k}, res = {roulette_binomial_distr(n, k)}')\n",
    "\n",
    "print_distr(10, 4)\n",
    "print_distr(10, 1)\n",
    "print_distr(100, 50)"
   ]
  },
  {
   "cell_type": "markdown",
   "metadata": {},
   "source": [
    "4. Из урока по комбинаторике повторите расчеты, сгенерировав возможные варианты перестановок для других значений n и k"
   ]
  },
  {
   "cell_type": "code",
   "execution_count": 9,
   "metadata": {},
   "outputs": [
    {
     "name": "stdout",
     "output_type": "stream",
     "text": [
      "01235\n",
      "01253\n",
      "01325\n",
      "01352\n",
      "01523\n",
      "01532\n",
      "02135\n",
      "02153\n",
      "02315\n",
      "02351\n",
      "02513\n",
      "02531\n",
      "03125\n",
      "03152\n",
      "03215\n",
      "03251\n",
      "03512\n",
      "03521\n",
      "05123\n",
      "05132\n",
      "05213\n",
      "05231\n",
      "05312\n",
      "05321\n",
      "10235\n",
      "10253\n",
      "10325\n",
      "10352\n",
      "10523\n",
      "10532\n",
      "12035\n",
      "12053\n",
      "12305\n",
      "12350\n",
      "12503\n",
      "12530\n",
      "13025\n",
      "13052\n",
      "13205\n",
      "13250\n",
      "13502\n",
      "13520\n",
      "15023\n",
      "15032\n",
      "15203\n",
      "15230\n",
      "15302\n",
      "15320\n",
      "20135\n",
      "20153\n",
      "20315\n",
      "20351\n",
      "20513\n",
      "20531\n",
      "21035\n",
      "21053\n",
      "21305\n",
      "21350\n",
      "21503\n",
      "21530\n",
      "23015\n",
      "23051\n",
      "23105\n",
      "23150\n",
      "23501\n",
      "23510\n",
      "25013\n",
      "25031\n",
      "25103\n",
      "25130\n",
      "25301\n",
      "25310\n",
      "30125\n",
      "30152\n",
      "30215\n",
      "30251\n",
      "30512\n",
      "30521\n",
      "31025\n",
      "31052\n",
      "31205\n",
      "31250\n",
      "31502\n",
      "31520\n",
      "32015\n",
      "32051\n",
      "32105\n",
      "32150\n",
      "32501\n",
      "32510\n",
      "35012\n",
      "35021\n",
      "35102\n",
      "35120\n",
      "35201\n",
      "35210\n",
      "50123\n",
      "50132\n",
      "50213\n",
      "50231\n",
      "50312\n",
      "50321\n",
      "51023\n",
      "51032\n",
      "51203\n",
      "51230\n",
      "51302\n",
      "51320\n",
      "52013\n",
      "52031\n",
      "52103\n",
      "52130\n",
      "52301\n",
      "52310\n",
      "53012\n",
      "53021\n",
      "53102\n",
      "53120\n",
      "53201\n",
      "53210\n"
     ]
    }
   ],
   "source": [
    "for p in itertools.permutations(\"01235\", 5):\n",
    "    print(''.join(str(x) for x in p))"
   ]
  },
  {
   "cell_type": "code",
   "execution_count": 10,
   "metadata": {},
   "outputs": [
    {
     "name": "stdout",
     "output_type": "stream",
     "text": [
      "01235\n",
      "01236\n",
      "01237\n",
      "01256\n",
      "01257\n",
      "01267\n",
      "01356\n",
      "01357\n",
      "01367\n",
      "01567\n",
      "02356\n",
      "02357\n",
      "02367\n",
      "02567\n",
      "03567\n",
      "12356\n",
      "12357\n",
      "12367\n",
      "12567\n",
      "13567\n",
      "23567\n"
     ]
    }
   ],
   "source": [
    "for p in itertools.combinations(\"0123567\", 5):\n",
    "    print(''.join(p))"
   ]
  },
  {
   "cell_type": "markdown",
   "metadata": {},
   "source": [
    "5. Дополните код расчетом коэффициента корреляции x и y"
   ]
  },
  {
   "cell_type": "code",
   "execution_count": 11,
   "metadata": {},
   "outputs": [
    {
     "name": "stderr",
     "output_type": "stream",
     "text": [
      "C:\\ProgramData\\Anaconda3\\lib\\site-packages\\ipykernel_launcher.py:14: FutureWarning: `rcond` parameter will change to the default of machine precision times ``max(M, N)`` where M and N are the input matrix dimensions.\n",
      "To use the future default and silence this warning we advise to pass `rcond=None`, to keep using the old, explicitly pass `rcond=-1`.\n",
      "  \n"
     ]
    },
    {
     "data": {
      "image/png": "[encoded data removed]",
      "text/plain": [
       "<Figure size 432x288 with 1 Axes>"
      ]
     },
     "metadata": {
      "needs_background": "light"
     },
     "output_type": "display_data"
    },
    {
     "name": "stdout",
     "output_type": "stream",
     "text": [
      "0.6834715483368783 0.15567690891055355\n",
      "0.6834715483368786 0.15567690891055316\n",
      "0.9176671813467412\n"
     ]
    }
   ],
   "source": [
    "n = 100\n",
    "r = 0.7\n",
    "x = np.random.rand(n)\n",
    "y = r*x + (1 - r)*np.random.rand(n)\n",
    "plt.plot(x, y, 'o')\n",
    "plt.xlabel('x')\n",
    "plt.ylabel('y')\n",
    "plt.grid(True)\n",
    "\n",
    "a = (np.sum(x)*np.sum(y) - n*np.sum(x*y))/(np.sum(x)*np.sum(x) - n*np.sum(x*x))\n",
    "b = (np.sum(y) - a*np.sum(x))/n\n",
    "\n",
    "A = np.vstack([x, np.ones(len(x))]).T\n",
    "a1, b1 = np.linalg.lstsq(A, y)[0]\n",
    "plt.plot([0, 1], [b, a + b])\n",
    "plt.show()\n",
    "\n",
    "print(a, b)\n",
    "print(a1, b1)\n",
    "\n",
    "# Расчет коэффициента корреляции\n",
    "xm = np.average(x)\n",
    "ym = np.average(y)\n",
    "numerator = np.sum(np.multiply(np.subtract(x, xm), np.subtract(y, ym)))\n",
    "denominator = np.sqrt(np.multiply(np.sum(np.power(np.subtract(x, xm), 2)), np.sum(np.power(np.subtract(y, ym), 2))))\n",
    "R = numerator/denominator\n",
    "print(R)"
   ]
  }
 ],
 "metadata": {
  "kernelspec": {
   "display_name": "Python 3",
   "language": "python",
   "name": "python3"
  },
  "language_info": {
   "codemirror_mode": {
    "name": "ipython",
    "version": 3
   },
   "file_extension": ".py",
   "mimetype": "text/x-python",
   "name": "python",
   "nbconvert_exporter": "python",
   "pygments_lexer": "ipython3",
   "version": "3.7.6"
  }
 },
 "nbformat": 4,
 "nbformat_minor": 4
}
